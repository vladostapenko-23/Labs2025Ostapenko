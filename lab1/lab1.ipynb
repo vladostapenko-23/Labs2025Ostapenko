{
 "cells": [
  {
   "cell_type": "code",
   "execution_count": 5,
   "id": "c454f923",
   "metadata": {},
   "outputs": [],
   "source": [
    "import os\n",
    "import urllib.request\n",
    "from datetime import datetime\n",
    "import pandas as pd"
   ]
  },
  {
   "cell_type": "code",
   "execution_count": 6,
   "id": "2bdf9def",
   "metadata": {},
   "outputs": [],
   "source": [
    "save_dir = \"vhi_data\"\n",
    "os.makedirs(save_dir, exist_ok=True)"
   ]
  },
  {
   "cell_type": "markdown",
   "id": "981be646",
   "metadata": {},
   "source": [
    "#### download VHI data"
   ]
  },
  {
   "cell_type": "code",
   "execution_count": 9,
   "id": "5bd7b7ac",
   "metadata": {},
   "outputs": [
    {
     "name": "stdout",
     "output_type": "stream",
     "text": [
      "Завантаження області 1...\n",
      "Завантаження області 2...\n",
      "Завантаження області 3...\n",
      "Завантаження області 4...\n",
      "Завантаження області 5...\n",
      "Завантаження області 6...\n",
      "Завантаження області 7...\n",
      "Завантаження області 8...\n",
      "Завантаження області 9...\n",
      "Завантаження області 10...\n",
      "Завантаження області 11...\n",
      "Завантаження області 12...\n",
      "Завантаження області 13...\n",
      "Завантаження області 14...\n",
      "Завантаження області 15...\n",
      "Завантаження області 16...\n",
      "Завантаження області 17...\n",
      "Завантаження області 18...\n",
      "Завантаження області 19...\n",
      "Завантаження області 20...\n",
      "Завантаження області 21...\n",
      "Завантаження області 22...\n",
      "Завантаження області 23...\n",
      "Завантаження області 24...\n",
      "Завантаження області 25...\n",
      "Завантаження області 26...\n",
      "Завантаження області 27...\n"
     ]
    }
   ],
   "source": [
    "province_ids = range(1, 28)\n",
    "df_all = pd.DataFrame()\n",
    "\n",
    "for pid in province_ids:\n",
    "    # Формуємо URL\n",
    "    url = f\"https://www.star.nesdis.noaa.gov/smcd/emb/vci/VH/get_TS_admin.php?country=UKR&provinceID={pid}&year1=1981&year2=2024&type=Mean\"\n",
    "    timestamp = datetime.now().strftime(\"%Y-%m-%d_%H-%M\")\n",
    "    filename = f\"VHI_{pid}_{timestamp}.csv\"\n",
    "    filepath = os.path.join(save_dir, filename)\n",
    "    \n",
    "    print(f\"Завантаження області {pid}...\")\n",
    "    urllib.request.urlretrieve(url, filepath)\n",
    "    \n",
    "    # Зчитування CSV\n",
    "    df = pd.read_csv(filepath, sep=r\"\\s+\", comment=\"#\", header=None, engine='python')\n",
    "\n",
    "    \n",
    "    if df.shape[1] >= 7:\n",
    "        df = df.iloc[:, -7:]  # беремо останні 7 колонок\n",
    "        df.columns = [\"year\", \"week\", \"SMN\", \"SMT\", \"VCI\", \"TCI\", \"VHI\"]\n",
    "        df = df[[\"year\", \"week\", \"VHI\"]]\n",
    "        df[\"provinceID\"] = pid\n",
    "        df_all = pd.concat([df_all, df], ignore_index=True)\n",
    "    else:\n",
    "        print(f\"Файл області {pid} не містить достатньо колонок, пропускаю.\")"
   ]
  },
  {
   "cell_type": "code",
   "execution_count": 10,
   "id": "26a7902c",
   "metadata": {},
   "outputs": [
    {
     "name": "stdout",
     "output_type": "stream",
     "text": [
      "Empty DataFrame\n",
      "Columns: [year, week, VHI, provinceID]\n",
      "Index: []\n",
      "Всього рядків: 0\n",
      "Фінальний файл збережено: vhi_data\\VHI_all_2025-09-25_17-02.csv\n"
     ]
    }
   ],
   "source": [
    "# Очищення VHI\n",
    "df_all[\"VHI\"] = pd.to_numeric(df_all[\"VHI\"], errors=\"coerce\")\n",
    "df_all.dropna(subset=[\"VHI\"], inplace=True)\n",
    "\n",
    "# 2. Зберігаємо фінальний об'єднаний DataFrame у CSV-файл\n",
    "output_filename = f\"VHI_all_{datetime.now().strftime('%Y-%m-%d_%H-%M')}.csv\"\n",
    "output_path = os.path.join(save_dir, output_filename)\n",
    "df_all.to_csv(output_path, index=False)  # зберігаємо без індексів\n",
    "\n",
    "print(df_all.head())\n",
    "print(f\"Всього рядків: {len(df_all)}\")\n",
    "print(f\"Фінальний файл збережено: {output_path}\")\n"
   ]
  }
 ],
 "metadata": {
  "kernelspec": {
   "display_name": "venv1",
   "language": "python",
   "name": "python3"
  },
  "language_info": {
   "codemirror_mode": {
    "name": "ipython",
    "version": 3
   },
   "file_extension": ".py",
   "mimetype": "text/x-python",
   "name": "python",
   "nbconvert_exporter": "python",
   "pygments_lexer": "ipython3",
   "version": "3.13.7"
  }
 },
 "nbformat": 4,
 "nbformat_minor": 5
}
